{
  "nbformat": 4,
  "nbformat_minor": 0,
  "metadata": {
    "colab": {
      "name": "Untitled3.ipynb",
      "provenance": [],
      "authorship_tag": "ABX9TyPMe8OX3csNVlEXo9arwQP5",
      "include_colab_link": true
    },
    "kernelspec": {
      "name": "python3",
      "display_name": "Python 3"
    }
  },
  "cells": [
    {
      "cell_type": "markdown",
      "metadata": {
        "id": "view-in-github",
        "colab_type": "text"
      },
      "source": [
        "<a href=\"https://colab.research.google.com/github/someshpulikanti/Myproject1/blob/master/Tensor_Flow_Basics.ipynb\" target=\"_parent\"><img src=\"https://colab.research.google.com/assets/colab-badge.svg\" alt=\"Open In Colab\"/></a>"
      ]
    },
    {
      "cell_type": "code",
      "metadata": {
        "id": "X7Iz8vGWTKtU",
        "colab_type": "code",
        "colab": {}
      },
      "source": [
        "import tensorflow as tf"
      ],
      "execution_count": 0,
      "outputs": []
    },
    {
      "cell_type": "code",
      "metadata": {
        "id": "DEmAaRhUUpPm",
        "colab_type": "code",
        "colab": {}
      },
      "source": [
        "dataset = tf.keras.datasets.mnist\n",
        "\n",
        "(x_train , y_train), (x_test, y_test) = dataset.load_data()"
      ],
      "execution_count": 0,
      "outputs": []
    },
    {
      "cell_type": "code",
      "metadata": {
        "id": "NyaN-x_9VaU4",
        "colab_type": "code",
        "colab": {}
      },
      "source": [
        "x_train, x_test = x_train / 255.0, x_test / 255.0"
      ],
      "execution_count": 0,
      "outputs": []
    },
    {
      "cell_type": "code",
      "metadata": {
        "id": "mjlGw0edWtqB",
        "colab_type": "code",
        "colab": {}
      },
      "source": [
        "model = tf.keras.models.Sequential([\n",
        "  tf.keras.layers.Flatten(input_shape=(28, 28)),\n",
        "  tf.keras.layers.Dense(128, activation='relu'),\n",
        "  tf.keras.layers.Dropout(0.2),\n",
        "  tf.keras.layers.Dense(10)\n",
        "])"
      ],
      "execution_count": 0,
      "outputs": []
    },
    {
      "cell_type": "code",
      "metadata": {
        "id": "AVWIzfMwYgsx",
        "colab_type": "code",
        "outputId": "4f85589e-0a21-47fc-9d04-3a331c31e4ee",
        "colab": {
          "base_uri": "https://localhost:8080/",
          "height": 69
        }
      },
      "source": [
        "predictions = model(x_train[:1]).numpy()\n",
        "predictions"
      ],
      "execution_count": 0,
      "outputs": [
        {
          "output_type": "execute_result",
          "data": {
            "text/plain": [
              "array([[ 0.14349923,  0.04015101,  0.18700832,  0.42916924, -0.35927492,\n",
              "         0.47246036, -0.14589901, -0.34771496, -0.26696545, -0.43556944]],\n",
              "      dtype=float32)"
            ]
          },
          "metadata": {
            "tags": []
          },
          "execution_count": 13
        }
      ]
    },
    {
      "cell_type": "code",
      "metadata": {
        "id": "MT1yIedqZEXZ",
        "colab_type": "code",
        "outputId": "4cc2c147-0568-453c-ec61-de321898cb03",
        "colab": {
          "base_uri": "https://localhost:8080/",
          "height": 69
        }
      },
      "source": [
        "predictions"
      ],
      "execution_count": 0,
      "outputs": [
        {
          "output_type": "execute_result",
          "data": {
            "text/plain": [
              "array([[ 0.14349923,  0.04015101,  0.18700832,  0.42916924, -0.35927492,\n",
              "         0.47246036, -0.14589901, -0.34771496, -0.26696545, -0.43556944]],\n",
              "      dtype=float32)"
            ]
          },
          "metadata": {
            "tags": []
          },
          "execution_count": 14
        }
      ]
    },
    {
      "cell_type": "code",
      "metadata": {
        "id": "sNqf46hMZiCx",
        "colab_type": "code",
        "outputId": "2c48decc-e157-4857-8fd0-00a0e9bfd1b0",
        "colab": {
          "base_uri": "https://localhost:8080/",
          "height": 69
        }
      },
      "source": [
        "tf.nn.softmax(predictions).numpy()\n"
      ],
      "execution_count": 0,
      "outputs": [
        {
          "output_type": "execute_result",
          "data": {
            "text/plain": [
              "array([[0.11292203, 0.10183454, 0.11794361, 0.15026006, 0.06830093,\n",
              "        0.15690784, 0.0845463 , 0.06909507, 0.07490592, 0.06328376]],\n",
              "      dtype=float32)"
            ]
          },
          "metadata": {
            "tags": []
          },
          "execution_count": 15
        }
      ]
    },
    {
      "cell_type": "code",
      "metadata": {
        "id": "Y_IpuROnaZiV",
        "colab_type": "code",
        "colab": {}
      },
      "source": [
        "loss_fn = tf.keras.losses.SparseCategoricalCrossentropy(from_logits=True)\n"
      ],
      "execution_count": 0,
      "outputs": []
    },
    {
      "cell_type": "code",
      "metadata": {
        "id": "U2Tn2Oiwa4lU",
        "colab_type": "code",
        "outputId": "de753086-80fc-45cb-bed2-111b7725bcae",
        "colab": {
          "base_uri": "https://localhost:8080/",
          "height": 35
        }
      },
      "source": [
        "loss_fn(y_train[:1], predictions).numpy()\n"
      ],
      "execution_count": 0,
      "outputs": [
        {
          "output_type": "execute_result",
          "data": {
            "text/plain": [
              "1.8520967"
            ]
          },
          "metadata": {
            "tags": []
          },
          "execution_count": 17
        }
      ]
    },
    {
      "cell_type": "code",
      "metadata": {
        "id": "7J284gklbHLE",
        "colab_type": "code",
        "colab": {}
      },
      "source": [
        "model.compile(optimizer='adam',\n",
        "              loss=loss_fn,\n",
        "              metrics=['accuracy'])"
      ],
      "execution_count": 0,
      "outputs": []
    },
    {
      "cell_type": "code",
      "metadata": {
        "id": "GlNyOyd_bUlQ",
        "colab_type": "code",
        "outputId": "36890231-1fd1-4ea4-c8d5-3c200b6bfdf7",
        "colab": {
          "base_uri": "https://localhost:8080/",
          "height": 208
        }
      },
      "source": [
        "model.fit(x_train, y_train, epochs=5)\n"
      ],
      "execution_count": 0,
      "outputs": [
        {
          "output_type": "stream",
          "text": [
            "Epoch 1/5\n",
            "1875/1875 [==============================] - 3s 2ms/step - loss: 0.2953 - accuracy: 0.9140\n",
            "Epoch 2/5\n",
            "1875/1875 [==============================] - 3s 2ms/step - loss: 0.1430 - accuracy: 0.9576\n",
            "Epoch 3/5\n",
            "1875/1875 [==============================] - 3s 2ms/step - loss: 0.1073 - accuracy: 0.9667\n",
            "Epoch 4/5\n",
            "1875/1875 [==============================] - 3s 2ms/step - loss: 0.0866 - accuracy: 0.9732\n",
            "Epoch 5/5\n",
            "1875/1875 [==============================] - 3s 2ms/step - loss: 0.0770 - accuracy: 0.9760\n"
          ],
          "name": "stdout"
        },
        {
          "output_type": "execute_result",
          "data": {
            "text/plain": [
              "<tensorflow.python.keras.callbacks.History at 0x7f2b95937780>"
            ]
          },
          "metadata": {
            "tags": []
          },
          "execution_count": 20
        }
      ]
    },
    {
      "cell_type": "code",
      "metadata": {
        "id": "HSzmSerBbwNa",
        "colab_type": "code",
        "outputId": "5dbadc36-a5fb-4950-8b71-06fcaca25170",
        "colab": {
          "base_uri": "https://localhost:8080/",
          "height": 52
        }
      },
      "source": [
        "model.evaluate(x_test,  y_test, verbose=2)\n"
      ],
      "execution_count": 0,
      "outputs": [
        {
          "output_type": "stream",
          "text": [
            "313/313 - 0s - loss: 0.0719 - accuracy: 0.9782\n"
          ],
          "name": "stdout"
        },
        {
          "output_type": "execute_result",
          "data": {
            "text/plain": [
              "[0.07190456986427307, 0.9782000184059143]"
            ]
          },
          "metadata": {
            "tags": []
          },
          "execution_count": 21
        }
      ]
    },
    {
      "cell_type": "code",
      "metadata": {
        "id": "3QD8tyhmdhmR",
        "colab_type": "code",
        "colab": {}
      },
      "source": [
        "probability_model = tf.keras.Sequential([\n",
        "  model,\n",
        "  tf.keras.layers.Softmax()\n",
        "])"
      ],
      "execution_count": 0,
      "outputs": []
    },
    {
      "cell_type": "code",
      "metadata": {
        "id": "bm0T1Ew0dzI-",
        "colab_type": "code",
        "outputId": "11082bc8-ae8f-48bb-b929-cb75d35a0793",
        "colab": {
          "base_uri": "https://localhost:8080/",
          "height": 295
        }
      },
      "source": [
        "probability_model(x_test[:5])\n"
      ],
      "execution_count": 0,
      "outputs": [
        {
          "output_type": "execute_result",
          "data": {
            "text/plain": [
              "<tf.Tensor: shape=(5, 10), dtype=float32, numpy=\n",
              "array([[3.5194216e-07, 1.3316872e-08, 6.5685490e-06, 6.5956666e-04,\n",
              "        8.4409259e-12, 1.2637130e-07, 8.0980653e-14, 9.9927682e-01,\n",
              "        1.4702675e-07, 5.6472974e-05],\n",
              "       [4.0237698e-09, 2.2967074e-04, 9.9968576e-01, 8.4174986e-05,\n",
              "        1.3550260e-14, 3.4301934e-08, 1.8503977e-08, 5.6271735e-13,\n",
              "        4.0240582e-07, 1.0186231e-12],\n",
              "       [1.4232252e-07, 9.9951088e-01, 2.1285929e-05, 8.6546072e-07,\n",
              "        5.1287147e-06, 3.1019038e-06, 2.3815794e-05, 4.0679047e-04,\n",
              "        2.7834511e-05, 1.1109382e-07],\n",
              "       [9.9967062e-01, 1.2130160e-08, 1.5321917e-04, 6.1625690e-07,\n",
              "        1.9992170e-07, 3.7989994e-05, 1.1387812e-04, 1.6213686e-05,\n",
              "        3.0361747e-07, 6.9626340e-06],\n",
              "       [3.0479973e-06, 8.1224325e-09, 3.2153871e-06, 3.9348342e-07,\n",
              "        9.8721468e-01, 1.9763600e-07, 5.3211684e-06, 3.2712793e-05,\n",
              "        1.2817766e-06, 1.2739123e-02]], dtype=float32)>"
            ]
          },
          "metadata": {
            "tags": []
          },
          "execution_count": 23
        }
      ]
    }
  ]
}